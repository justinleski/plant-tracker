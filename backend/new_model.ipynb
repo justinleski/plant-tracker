{
 "cells": [
  {
   "cell_type": "markdown",
   "metadata": {},
   "source": [
    "# Altering an Existing Model\n",
    "Since my attempts to train the model only really got 70% accuracy at most, and the graphs indicated under/over fitting depending on my attempt, I decided to use [this model from Kaggle](https://www.kaggle.com/code/muhammadfaizan65/plant-species-classification-vgg16/output) instead.\n",
    "\n",
    "By using this model, I could modify it to return the predicitons I expect while still maintaining good accuracy for my dataset"
   ]
  },
  {
   "cell_type": "code",
   "execution_count": 4,
   "metadata": {},
   "outputs": [
    {
     "name": "stdout",
     "output_type": "stream",
     "text": [
      "Found 13724 files belonging to 47 classes.\n"
     ]
    }
   ],
   "source": [
    "from tensorflow.keras.models import load_model\n",
    "import tensorflow as tf\n",
    "\n",
    "# Load the .keras model from Kaggle\n",
    "model = load_model(\"model/best_model.keras\")\n",
    "\n",
    "# Load dataset\n",
    "dataset_path = \"house_plant_species\"\n",
    "\n",
    "# only keep supported formats like .jpg, .jpeg, .png\n",
    "valid_extensions = ['.jpg', '.jpeg', '.png', '.bmp', '.gif']\n",
    "\n",
    "ds_train_ = tf.keras.preprocessing.image_dataset_from_directory(\n",
    "    dataset_path,\n",
    "    labels='inferred',\n",
    "    label_mode='categorical',\n",
    "    image_size=[128, 128],\n",
    "    interpolation='nearest',\n",
    "    batch_size=64,\n",
    "    shuffle=True,\n",
    ")\n",
    "\n",
    "# Check the class names\n",
    "class_names = ds_train_.class_names"
   ]
  },
  {
   "cell_type": "markdown",
   "metadata": {},
   "source": [
    "### Modifications\n",
    "To ensure the model can return the label specified for my front end, I will slightly modify it and ensure it is saved as a `SavedModel` instead of `.keras` as TensorFlow Serving requires the first one."
   ]
  },
  {
   "cell_type": "code",
   "execution_count": 5,
   "metadata": {},
   "outputs": [
    {
     "name": "stderr",
     "output_type": "stream",
     "text": [
      "I0000 00:00:1735071537.495027    3677 cuda_dnn.cc:529] Loaded cuDNN version 90300\n"
     ]
    },
    {
     "name": "stdout",
     "output_type": "stream",
     "text": [
      "INFO:tensorflow:Assets written to: model/plant_model/3/assets\n"
     ]
    },
    {
     "name": "stderr",
     "output_type": "stream",
     "text": [
      "INFO:tensorflow:Assets written to: model/plant_model/3/assets\n"
     ]
    },
    {
     "name": "stdout",
     "output_type": "stream",
     "text": [
      "Saved artifact at 'model/plant_model/3'. The following endpoints are available:\n",
      "\n",
      "* Endpoint 'serve'\n",
      "  args_0 (POSITIONAL_ONLY): TensorSpec(shape=(None, 128, 128, 3), dtype=tf.float32, name=None)\n",
      "Output Type:\n",
      "  Dict[['probabilities', TensorSpec(shape=(None, 47), dtype=tf.float32, name=None)], ['labels', TensorSpec(shape=(None,), dtype=tf.string, name=None)]]\n",
      "Captures:\n",
      "  139833872850032: TensorSpec(shape=(), dtype=tf.resource, name=None)\n",
      "  139833872854960: TensorSpec(shape=(), dtype=tf.resource, name=None)\n",
      "  139833872858656: TensorSpec(shape=(), dtype=tf.resource, name=None)\n",
      "  139833872863952: TensorSpec(shape=(), dtype=tf.resource, name=None)\n",
      "  139833872870640: TensorSpec(shape=(), dtype=tf.resource, name=None)\n",
      "  139833872867472: TensorSpec(shape=(), dtype=tf.resource, name=None)\n",
      "  139833872872576: TensorSpec(shape=(), dtype=tf.resource, name=None)\n",
      "  139833872871168: TensorSpec(shape=(), dtype=tf.resource, name=None)\n",
      "  139833872873456: TensorSpec(shape=(), dtype=tf.resource, name=None)\n",
      "  139833872874336: TensorSpec(shape=(), dtype=tf.resource, name=None)\n",
      "  139833872874512: TensorSpec(shape=(), dtype=tf.resource, name=None)\n",
      "  139833872944288: TensorSpec(shape=(), dtype=tf.resource, name=None)\n",
      "  139833872946928: TensorSpec(shape=(), dtype=tf.resource, name=None)\n",
      "  139833872945520: TensorSpec(shape=(), dtype=tf.resource, name=None)\n",
      "  139833872951328: TensorSpec(shape=(), dtype=tf.resource, name=None)\n",
      "  139833872942528: TensorSpec(shape=(), dtype=tf.resource, name=None)\n",
      "  139833872953264: TensorSpec(shape=(), dtype=tf.resource, name=None)\n",
      "  139833872951856: TensorSpec(shape=(), dtype=tf.resource, name=None)\n",
      "  139833872955904: TensorSpec(shape=(), dtype=tf.resource, name=None)\n",
      "  139833872953792: TensorSpec(shape=(), dtype=tf.resource, name=None)\n",
      "  139833872956960: TensorSpec(shape=(), dtype=tf.resource, name=None)\n",
      "  139833872956432: TensorSpec(shape=(), dtype=tf.resource, name=None)\n",
      "  139833873011584: TensorSpec(shape=(), dtype=tf.resource, name=None)\n",
      "  139833873008064: TensorSpec(shape=(), dtype=tf.resource, name=None)\n",
      "  139833873014224: TensorSpec(shape=(), dtype=tf.resource, name=None)\n",
      "  139833873012816: TensorSpec(shape=(), dtype=tf.resource, name=None)\n",
      "  139834290316288: TensorSpec(shape=(), dtype=tf.resource, name=None)\n",
      "  139834800720352: TensorSpec(shape=(), dtype=tf.resource, name=None)\n",
      "  139833873014752: TensorSpec(shape=(), dtype=tf.resource, name=None)\n",
      "  139833873014576: TensorSpec(shape=(), dtype=tf.resource, name=None)\n",
      "  139833873009296: TensorSpec(shape=(), dtype=tf.resource, name=None)\n",
      "  139833873014400: TensorSpec(shape=(), dtype=tf.resource, name=None)\n",
      "  139833873015984: TensorSpec(shape=(), dtype=tf.resource, name=None)\n",
      "  139833873223696: TensorSpec(shape=(), dtype=tf.resource, name=None)\n",
      "  139833873224928: TensorSpec(shape=(), dtype=tf.resource, name=None)\n",
      "  139833873226688: TensorSpec(shape=(), dtype=tf.resource, name=None)\n",
      "  139833873224048: TensorSpec(shape=(), dtype=tf.resource, name=None)\n",
      "  139833873225456: TensorSpec(shape=(), dtype=tf.resource, name=None)\n",
      "  139833873234256: TensorSpec(shape=(), dtype=tf.resource, name=None)\n",
      "  139833873234960: TensorSpec(shape=(), dtype=tf.resource, name=None)\n",
      "  139833873354416: TensorSpec(shape=(), dtype=tf.resource, name=None)\n",
      "  139833873356176: TensorSpec(shape=(), dtype=tf.resource, name=None)\n",
      "  139833873353536: TensorSpec(shape=(), dtype=tf.resource, name=None)\n",
      "  139833873354944: TensorSpec(shape=(), dtype=tf.resource, name=None)\n",
      "  139833873364448: TensorSpec(shape=(), dtype=tf.resource, name=None)\n",
      "  139833873365152: TensorSpec(shape=(), dtype=tf.resource, name=None)\n",
      "  139834004978352: TensorSpec(shape=(47,), dtype=tf.string, name=None)\n"
     ]
    }
   ],
   "source": [
    "class LabeledModel(tf.keras.Model):\n",
    "    def __init__(self, base_model, class_names):\n",
    "        super().__init__()\n",
    "        self.base_model = base_model\n",
    "        self.class_names = tf.constant(class_names)\n",
    "\n",
    "    def call(self, inputs):\n",
    "        probabilities = self.base_model(inputs)  # Raw predictions\n",
    "        predicted_indices = tf.argmax(probabilities, axis=-1)  # Predicted indices\n",
    "        predicted_labels = tf.gather(self.class_names, predicted_indices)  # Class names\n",
    "        return {\"probabilities\": probabilities, \"labels\": predicted_labels}\n",
    "\n",
    "# Wrap the model\n",
    "labeled_model = LabeledModel(model, class_names)\n",
    "\n",
    "# Build the model by passing an example input\n",
    "example_input = tf.random.normal([1, 128, 128, 3])  # Example input shape (batch_size, height, width, channels)\n",
    "labeled_model(example_input)  # This triggers the building of the model\n",
    "\n",
    "# Now export the labeled model\n",
    "labeled_model.export(\"model/plant_model/3\")"
   ]
  },
  {
   "cell_type": "markdown",
   "metadata": {},
   "source": [
    "### Conclusion\n",
    "And that's it. Most of the work was done thanks to [Muhammad Faizan on Kaggle](https://www.kaggle.com/code/muhammadfaizan65/plant-species-classification-vgg16/notebook) and I just modified what I needed. I hope to take this experience and learn what I did wrong. Now, the app returns *mostly* correct predictions."
   ]
  }
 ],
 "metadata": {
  "kernelspec": {
   "display_name": "Python 3",
   "language": "python",
   "name": "python3"
  },
  "language_info": {
   "codemirror_mode": {
    "name": "ipython",
    "version": 3
   },
   "file_extension": ".py",
   "mimetype": "text/x-python",
   "name": "python",
   "nbconvert_exporter": "python",
   "pygments_lexer": "ipython3",
   "version": "3.10.12"
  }
 },
 "nbformat": 4,
 "nbformat_minor": 2
}
